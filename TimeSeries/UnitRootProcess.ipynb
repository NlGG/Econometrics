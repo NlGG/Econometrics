{
 "cells": [
  {
   "cell_type": "markdown",
   "metadata": {},
   "source": [
    "# 単位根過程"
   ]
  },
  {
   "cell_type": "markdown",
   "metadata": {},
   "source": [
    "## 1　性質"
   ]
  },
  {
   "cell_type": "markdown",
   "metadata": {},
   "source": [
    "#### 単位根過程の定義：原系列が非定常過程であり、差分系列が定常過程である過程。"
   ]
  },
  {
   "cell_type": "markdown",
   "metadata": {},
   "source": [
    "## ２　検定　"
   ]
  },
  {
   "cell_type": "markdown",
   "metadata": {},
   "source": [
    "### 2.1　DF検定"
   ]
  },
  {
   "cell_type": "markdown",
   "metadata": {},
   "source": [
    "真の過程をAR(1)モデルと仮定し、仮定が単位根AR(1)過程であるという帰無仮説を、過程が定常AR(1)過程であるという対立仮説に対して検定するものである。"
   ]
  },
  {
   "cell_type": "markdown",
   "metadata": {},
   "source": [
    "※DF検定を含む単位根検定が通常の検定と大きく異なる一つの点は、①帰無仮説のモデルが定数項を含むかどうかと、②対立仮説のモデルが定数項とトレンド項を含むかどうか、によって検定統計量の漸近分布が異なるため、用いる棄却点が違うという点である。①と②の組み合わせは幾つか考えられるが、その中でも次の３つの場合が用いられることが多い。\n",
    "$$[場合1] H_0:y_t=y_{t-1}+u_t~~~H_1:y_t=ρy_{t-1}+u_t~~~|ρ|<1$$\n",
    "$$[場合2] H_0:y_t=y_{t-1}+u_t~~~H_1:y_t=\\alpha+ρy_{t-1}+u_t~~~|ρ|<1$$\n",
    "$$[場合3] H_0:y_t=\\alpha+y_{t-1}+u_t~~~H_1:y_t=\\alpha+ρy_{t-1}+\\delta t +u_t~~~|ρ|<1$$"
   ]
  },
  {
   "cell_type": "markdown",
   "metadata": {},
   "source": [
    "上の３つは、それぞれ、\n",
    "$$[場合1] データがトレンドを持たず、過程の期待値が0の場合$$\n",
    "$$[場合2] データがトレンドを持たず、過程の期待値が0でない場合$$\n",
    "$$[場合3] データがトレンドを持つ場合$$\n",
    "を目安に使われる。"
   ]
  },
  {
   "cell_type": "markdown",
   "metadata": {},
   "source": [
    "DF検定は、例えば$H_0:ρ=1~~~H_1:ρ<1$としたt検定と同じではないのか？←非定常性が問題となる。"
   ]
  },
  {
   "cell_type": "code",
   "execution_count": null,
   "metadata": {
    "collapsed": true
   },
   "outputs": [],
   "source": []
  }
 ],
 "metadata": {
  "kernelspec": {
   "display_name": "Python 3",
   "language": "python",
   "name": "python3"
  },
  "language_info": {
   "codemirror_mode": {
    "name": "ipython",
    "version": 3
   },
   "file_extension": ".py",
   "mimetype": "text/x-python",
   "name": "python",
   "nbconvert_exporter": "python",
   "pygments_lexer": "ipython3",
   "version": "3.5.1"
  }
 },
 "nbformat": 4,
 "nbformat_minor": 0
}
