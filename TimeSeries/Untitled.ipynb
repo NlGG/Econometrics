{
 "cells": [
  {
   "cell_type": "code",
   "execution_count": null,
   "metadata": {
    "collapsed": true
   },
   "outputs": [],
   "source": [
    "using Dynare\n",
    "\n",
    "# Create a model object\n",
    "m =\n",
    "@modfile begin\n",
    "    @var y c k a h b\n",
    "    @varexo e u\n",
    "    @parameters beta rho alpha delta theta psi tau\n",
    "    @model begin\n",
    "        c*theta*h^(1+psi) = (1-alpha)*y\n",
    "        k = beta*(((exp(b)*c)/(exp(b(+1))*c(+1)))*(exp(b(+1))*alpha*y(+1)+(1-delta)*k))\n",
    "        y = exp(a)*(k(-1)^alpha)*(h^(1-alpha))\n",
    "        k = exp(b)*(y-c)+(1-delta)*k(-1)\n",
    "        a = rho*a(-1)+tau*b(-1) + e\n",
    "        b = tau*a(-1)+rho*b(-1) + u\n",
    "    end\n",
    "end\n",
    "\n",
    "# Do some preliminary computations\n",
    "compute_model_info(m)\n",
    "\n",
    "# Define a calibration and some starting values for the nonlinear solver\n",
    "\n",
    "calib = [\n",
    "         :alpha => 0.36,\n",
    "         :rho   => 0.95,\n",
    "         :tau   => 0.025,\n",
    "         :beta  => 0.99,\n",
    "         :delta => 0.025,\n",
    "         :psi   => 0.0,\n",
    "         :theta => 2.95\n",
    "        ]\n",
    "\n",
    "initval = [\n",
    "           :y => 1.08068253095672,\n",
    "           :c => 0.80359242014163,\n",
    "           :h => 0.29175631001732,\n",
    "           :k => 11.08360443260358,\n",
    "           :a => 0.0,\n",
    "           :b => 0.0,\n",
    "           :e => 0.0,\n",
    "           :u => 0.0\n",
    "          ]\n",
    "\n",
    "# Compute and print the steady state for the given calibration\n",
    "\n",
    "s = steady_state(m, calib, initval)\n",
    "\n",
    "print_steady_state(m, s)\n",
    "\n",
    "# Compute and print eigenvalues and first order decision rules\n",
    "\n",
    "(gy, gu, eigs) = decision_rules(m, calib, s)\n",
    "\n",
    "println(\"Eigenvalues: \", eigs)\n",
    "println()\n",
    "\n",
    "print_decision_rules(m, gy, gu)"
   ]
  },
  {
   "cell_type": "code",
   "execution_count": null,
   "metadata": {
    "collapsed": true
   },
   "outputs": [],
   "source": []
  }
 ],
 "metadata": {
  "kernelspec": {
   "display_name": "Python 2",
   "language": "python",
   "name": "python2"
  }
 },
 "nbformat": 4,
 "nbformat_minor": 0
}
