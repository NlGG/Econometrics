{
 "cells": [
  {
   "cell_type": "code",
   "execution_count": null,
   "metadata": {
    "collapsed": true
   },
   "outputs": [],
   "source": [
    "% matplotlib inline\n",
    "import statsmodels.api as sm\n",
    "import statsmodels.discrete.discrete_model as smds\n",
    "import numpy as np\n",
    "import pandas as pd"
   ]
  },
  {
   "cell_type": "markdown",
   "metadata": {},
   "source": [
    "内生性の問題を無視して推計すればその推定量は一致生を欠く。  \n",
    "例)  \n",
    "$ y_{1i}^* = a_0 + a_1y_{2i}+b_1x_{1i}+e_{1i}$  \n",
    "$ y_{2i} = b_0 + b_1x_{1i}+e_{2i}$  \n",
    "*は観測できる変数。  \n",
    "さらに2本の連立方程式モデルで、双方の式に相手方の被説明変数が明示的に説明変数に含まれるというケースもある。  \n",
    "例)  \n",
    "$ y_{1i}^* = a_0 + a_1y_{2i}^*+b_1x_{1i}+e_{1i}$  \n",
    "$ y_{2i}^* = b_0 + a_2y_{1i}^*+b_2x_{1i}+e_{2i}$  \n",
    "Maddala[1983]のモデル1〜モデル6  \n",
    "①被説明変数がいずれも直接観察される連続変数であれば、二段階最小自乗法や三段階最小自乗法により推計を行うことができる。  \n",
    "それ以外の場合、  \n",
    "②連続変数と切断された変数。  \n",
    "③連続変数と二値的変数。  \n",
    "④いずれも切断された変数。  \n",
    "⑤切断された変数と二値的変数。  \n",
    "⑥いずれも二値的変数。  \n",
    "は二段階推定などで内生性の問題を解く必要がある。"
   ]
  },
  {
   "cell_type": "markdown",
   "metadata": {},
   "source": [
    "# １ プロビット・モデル、トービット・モデルにおける外生性の検定と推計"
   ]
  },
  {
   "cell_type": "markdown",
   "metadata": {},
   "source": [
    "## 1.1 外生性の検定"
   ]
  },
  {
   "cell_type": "markdown",
   "metadata": {},
   "source": [
    " ### 完全観測のケース  "
   ]
  },
  {
   "cell_type": "markdown",
   "metadata": {},
   "source": [
    "例)\n",
    "$ y_{1i}^* = b_1x_{1i} + b_2y_{2i}^*+u_{1i}$  \n",
    "$ y_{1i}=y_{1i}^*  $  \n",
    "$ y_{2i} = cz_i + v_i $  \n",
    "$y_{2i}$が内生変数か外生変数かを確かめたい。$u_i$と$v_i$が相関していなければ$y_{2i}$は外生変数である。"
   ]
  },
  {
   "cell_type": "markdown",
   "metadata": {},
   "source": [
    "それを確かめるには、$u_i = \\theta v_i + e_i$を考えなければならない。θ=０かどうかを調べれば良い。もしv_iが観測できれば、\n",
    "$ y_{1i}^* = b_1x_{1i} + b_2y_{2i}^*+\\theta v_i + e_{i}$  \n",
    "をOLSで推定し、t=0かどうかをt検定で検定すればよい。ただし、それはこの問題設定ではできないので、  \n",
    "$ y_{2i} = cz_i + v_i $  \n",
    "をOLSで推定し、cのOLS推定量$ \\hat{c}$と$\\hat{v_i}=y_{2i}-\\hat{c}z_i$を得て、  \n",
    "$ y_{1i} = b_ix_{1i}+b_2y_{2i}+\\theta \\hat{v_i} + e_i + \\theta(v_i - \\hat{v_i})$  \n",
    "について考える。θ=0という帰無仮説のもとでは第五項を無視してよいので、上式をOLSで推定し、θ=0という仮説をt検定で行える。"
   ]
  },
  {
   "cell_type": "markdown",
   "metadata": {},
   "source": [
    "### プロビット・モデルの場合"
   ]
  },
  {
   "cell_type": "markdown",
   "metadata": {},
   "source": [
    "$ y_{1i}^* = b_1x_{1i} + b_2y_{2i}^*+u_{1i}$  \n",
    "$ y_{1i}=\\begin{cases}\n",
    "    1 ~~ if y_{1i}^* > 0\\\\\n",
    "    0 ~~ otherwise\n",
    "  \\end{cases}   $  \n",
    "$ y_{2i} = cz_i + v_i $  "
   ]
  },
  {
   "cell_type": "markdown",
   "metadata": {},
   "source": [
    "### トービット・モデルのケース"
   ]
  },
  {
   "cell_type": "markdown",
   "metadata": {},
   "source": [
    "$ y_{1i}^* = b_1x_{1i} + b_2y_{2i}^*+u_{1i}$  \n",
    "$ y_{1i}=\\begin{cases}\n",
    "    y_{1i}^* ~~ if y_{1i}^* > 0\\\\\n",
    "    0 ~~ otherwise\n",
    "  \\end{cases}   $  \n",
    "$ y_{2i} = cz_i + v_i $  "
   ]
  },
  {
   "cell_type": "markdown",
   "metadata": {},
   "source": [
    "を考える。  \n",
    "$ y_{2i} = cz_i + v_i $  \n",
    "をOLSで推定し、cのOLS推定量$ \\hat{c}$と$\\hat{v_i}=y_{2i}-\\hat{c}z_i$を得て、これを説明変数として追加して、  \n",
    "$ y_{1i} = b_1x_{1i}+b_2y_{2i}+b_3 \\hat{v_i} + u_i $  \n",
    "をトービット・モデルで推計し、b_3=0という仮説をt検定で行う。"
   ]
  },
  {
   "cell_type": "markdown",
   "metadata": {},
   "source": [
    "Mroz[1987]のデータセットを用いて、上記の理論を女性の労働市場参加・不参加と労働時間について適用する。　　\n",
    "$ inlf_i^* = a_1 + c_1 infant1_i+c_2infant2_i+c_3age_i+c_4nwifeinc_i+c_5exper_i + c_6expersq_i + c_7educ_i + w_i $  \n",
    "$ inlf_i = \\begin{cases}\n",
    "    1 ~~ if inlf_i^* > 0\\\\\n",
    "    0 ~~ otherwise\n",
    "  \\end{cases} $"
   ]
  },
  {
   "cell_type": "markdown",
   "metadata": {},
   "source": [
    "ここで$w_i$はN(0, 1)に従うとする。女性の就業決定に関し教育歴(educ)が内生変数か外生変数かを検定する。これは女性が将来の就業(inlf)を考慮して教育歴を決定しているという仮説の検証で用いられる検定方法である。教育歴educは母親と父親の学歴に依存する。  \n",
    "$educ_i = a_0 + b_1motheduc_i + b_2 fatheduc_i + u_i $  \n",
    "これをOLSで推定し、その残差を用いて  \n",
    "$ inlf_i^* = a_1 + c_1 infant1_i+c_2infant2_i+c_3age_i+c_4nwifeinc_i+c_5exper_i + c_6expersq_i + c_7educ_i + w_i $  \n",
    "に追加し、その残差(educres)が有意かどうか下記の式において検証する。  \n",
    "$ inlf_i^* = a_1 + c_1 infant1_i+c_2infant2_i+c_3age_i+c_4nwifeinc_i+c_5exper_i + c_6expersq_i + c_7educ_i + c_8educres_i + w_i $  "
   ]
  },
  {
   "cell_type": "code",
   "execution_count": 7,
   "metadata": {
    "collapsed": false
   },
   "outputs": [],
   "source": [
    "mroz = pd.read_csv(\"mroz.csv\")"
   ]
  },
  {
   "cell_type": "code",
   "execution_count": 8,
   "metadata": {
    "collapsed": false
   },
   "outputs": [],
   "source": [
    "X = mroz['inlf'] "
   ]
  },
  {
   "cell_type": "code",
   "execution_count": 9,
   "metadata": {
    "collapsed": false
   },
   "outputs": [],
   "source": [
    "X = np.column_stack((mroz['inlf'], mroz['inlf'] ))"
   ]
  },
  {
   "cell_type": "code",
   "execution_count": 10,
   "metadata": {
    "collapsed": false
   },
   "outputs": [],
   "source": [
    "infant1 = lambda x : 1 if x == 1 else 0\n",
    "infant2 = lambda x : 1 if x >= 2 else 0\n",
    "child1 = lambda x : 1 if x <= 2 else 0\n",
    "child2 = lambda x : 1 if x >=3 else 0\n",
    "infant1 = pd.DataFrame([infant1(x) for x in mroz['kidslt6']],columns=['infant1'], index=[i for i in range(0, 753) ])\n",
    "infant2 = pd.DataFrame([infant2(x) for x in mroz['kidslt6']],columns=['infant2'], index=[i for i in range(0, 753)])\n",
    "child1 = pd.DataFrame([child1(x) for x in mroz['kidsge6']],columns=['child1'], index=[i for i in range(0, 753)])\n",
    "child2 = pd.DataFrame([child2(x) for x in mroz['kidsge6']],columns=['child2'], index=[i for i in range(0, 753)])"
   ]
  },
  {
   "cell_type": "code",
   "execution_count": 11,
   "metadata": {
    "collapsed": false
   },
   "outputs": [],
   "source": [
    "add = pd.concat([infant1, infant2, child1, child2], axis=1)"
   ]
  },
  {
   "cell_type": "code",
   "execution_count": 13,
   "metadata": {
    "collapsed": false
   },
   "outputs": [],
   "source": [
    "mroz = pd.concat([mroz, add], axis=1)"
   ]
  },
  {
   "cell_type": "code",
   "execution_count": 16,
   "metadata": {
    "collapsed": false
   },
   "outputs": [],
   "source": [
    "X = np.column_stack((mroz['motheduc'], mroz['fatheduc']))"
   ]
  },
  {
   "cell_type": "code",
   "execution_count": 17,
   "metadata": {
    "collapsed": false
   },
   "outputs": [],
   "source": [
    "X = sm.add_constant(X)\n",
    "y = mroz['educ']"
   ]
  },
  {
   "cell_type": "code",
   "execution_count": 18,
   "metadata": {
    "collapsed": false
   },
   "outputs": [
    {
     "name": "stdout",
     "output_type": "stream",
     "text": [
      "                            OLS Regression Results                            \n",
      "==============================================================================\n",
      "Dep. Variable:                   educ   R-squared:                       0.245\n",
      "Model:                            OLS   Adj. R-squared:                  0.243\n",
      "Method:                 Least Squares   F-statistic:                     121.7\n",
      "Date:                Sat, 30 Apr 2016   Prob (F-statistic):           1.72e-46\n",
      "Time:                        19:02:30   Log-Likelihood:                -1582.9\n",
      "No. Observations:                 753   AIC:                             3172.\n",
      "Df Residuals:                     750   BIC:                             3186.\n",
      "Df Model:                           2                                         \n",
      "Covariance Type:            nonrobust                                         \n",
      "==============================================================================\n",
      "                 coef    std err          t      P>|t|      [95.0% Conf. Int.]\n",
      "------------------------------------------------------------------------------\n",
      "const          8.9757      0.226     39.774      0.000         8.533     9.419\n",
      "x1             0.1833      0.026      6.991      0.000         0.132     0.235\n",
      "x2             0.1834      0.025      7.422      0.000         0.135     0.232\n",
      "==============================================================================\n",
      "Omnibus:                       14.795   Durbin-Watson:                   1.961\n",
      "Prob(Omnibus):                  0.001   Jarque-Bera (JB):               27.151\n",
      "Skew:                           0.031   Prob(JB):                     1.27e-06\n",
      "Kurtosis:                       3.928   Cond. No.                         42.3\n",
      "==============================================================================\n",
      "\n",
      "Warnings:\n",
      "[1] Standard Errors assume that the covariance matrix of the errors is correctly specified.\n"
     ]
    }
   ],
   "source": [
    "model = sm.OLS(y, X)\n",
    "results = model.fit()\n",
    "print(results.summary())"
   ]
  },
  {
   "cell_type": "code",
   "execution_count": 20,
   "metadata": {
    "collapsed": false
   },
   "outputs": [],
   "source": [
    "educres = results.resid_pearson"
   ]
  },
  {
   "cell_type": "code",
   "execution_count": 22,
   "metadata": {
    "collapsed": false
   },
   "outputs": [],
   "source": [
    "X = np.column_stack((mroz['infant1'], mroz['infant2'], mroz['age'], mroz['nwifeinc'], mroz['exper'], mroz['expersq'],  mroz['educ'], educres))"
   ]
  },
  {
   "cell_type": "code",
   "execution_count": 23,
   "metadata": {
    "collapsed": true
   },
   "outputs": [],
   "source": [
    "X = sm.add_constant(X)"
   ]
  },
  {
   "cell_type": "code",
   "execution_count": 24,
   "metadata": {
    "collapsed": true
   },
   "outputs": [],
   "source": [
    "inlf= lambda x : 1 if x > 0 else 0\n",
    "y = [inlf(x) for x in mroz['inlf']]"
   ]
  },
  {
   "cell_type": "code",
   "execution_count": 25,
   "metadata": {
    "collapsed": false
   },
   "outputs": [
    {
     "name": "stdout",
     "output_type": "stream",
     "text": [
      "Optimization terminated successfully.\n",
      "         Current function value: 0.533574\n",
      "         Iterations 6\n",
      "                          Probit Regression Results                           \n",
      "==============================================================================\n",
      "Dep. Variable:                      y   No. Observations:                  753\n",
      "Model:                         Probit   Df Residuals:                      744\n",
      "Method:                           MLE   Df Model:                            8\n",
      "Date:                Sat, 30 Apr 2016   Pseudo R-squ.:                  0.2197\n",
      "Time:                        19:03:18   Log-Likelihood:                -401.78\n",
      "converged:                       True   LL-Null:                       -514.87\n",
      "                                        LLR p-value:                 1.898e-44\n",
      "==============================================================================\n",
      "                 coef    std err          z      P>|z|      [95.0% Conf. Int.]\n",
      "------------------------------------------------------------------------------\n",
      "const          0.2599      0.723      0.360      0.719        -1.157     1.676\n",
      "x1            -0.8664      0.153     -5.654      0.000        -1.167    -0.566\n",
      "x2            -1.8142      0.301     -6.029      0.000        -2.404    -1.224\n",
      "x3            -0.0548      0.008     -6.774      0.000        -0.071    -0.039\n",
      "x4            -0.0122      0.005     -2.522      0.012        -0.022    -0.003\n",
      "x5             0.1228      0.019      6.552      0.000         0.086     0.160\n",
      "x6            -0.0019      0.001     -3.153      0.002        -0.003    -0.001\n",
      "x7             0.1434      0.049      2.926      0.003         0.047     0.239\n",
      "x8            -0.0364      0.107     -0.339      0.735        -0.247     0.174\n",
      "==============================================================================\n"
     ]
    }
   ],
   "source": [
    "model = smds.Probit(y, X)\n",
    "results = model.fit()\n",
    "print(results.summary())"
   ]
  },
  {
   "cell_type": "markdown",
   "metadata": {},
   "source": [
    "結果を見ると、educresの係数は-0.0364と負であるが、漸近的t値は-0.339、p値は0.735である。  \n",
    "よって、教育歴が女性就業の外生変数であるという帰無仮説は、つまりeducresの係数が0であるという仮説は、棄却されない。"
   ]
  },
  {
   "cell_type": "markdown",
   "metadata": {},
   "source": [
    "教育歴 = 外生変数 ＋ educres  \n",
    "女性就業を教育歴を含む変数で回帰した時の残差 = θeducres　＋　残差  \n",
    "女性就業　= 学生変数 + 教育歴 +　θeducres　＋　残差"
   ]
  },
  {
   "cell_type": "markdown",
   "metadata": {},
   "source": [
    "トービット・モデルの場合も同様に検定を行うことができる。  \n",
    "$(hours/1000)_i=\n",
    "\\begin{cases}\n",
    "   (hours/1000)_i & if  (hours/1000)_i > 1\\\\\n",
    "    0 & otherwise\n",
    "  \\end{cases} \n",
    "$"
   ]
  },
  {
   "cell_type": "markdown",
   "metadata": {},
   "source": [
    "## 1.2 プロビット・モデルに内生変数を含む場合の検定"
   ]
  },
  {
   "cell_type": "markdown",
   "metadata": {
    "collapsed": true
   },
   "source": [
    "### 連続説明変数"
   ]
  },
  {
   "cell_type": "markdown",
   "metadata": {},
   "source": [
    "・プロビット・モデルに連続説明変数が内戦変数として含まれるとする。  \n",
    "$ y_{1i}^* = b_1x_{1i} + b_2y_{2i}^*+u_{1i}$  \n",
    "$ y_{1i}=\\begin{cases}\n",
    "    1 ~~ if y_{1i}^* > 0\\\\\n",
    "    0 ~~ otherwise\n",
    "  \\end{cases}   $  \n",
    "$ y_{2i} = cz_i + v_i $  \n",
    "$ (u_i, v_i) \\sim NIID ((0.0), (1, \\sigma^2), \\rho)$  \n",
    "y_2iとu_iは相関を持つ。＝プロビット推計は一致性をもたない。  \n",
    "線形射影より  \n",
    "$u_i(Cov(u_i, v_i)/\\sigma^2)\\cdot v_i + e_i = \\theta _i + e_i $  \n",
    "ここでe_iはx_i、v_i、y_2iと独立。"
   ]
  },
  {
   "cell_type": "code",
   "execution_count": null,
   "metadata": {
    "collapsed": true
   },
   "outputs": [],
   "source": []
  }
 ],
 "metadata": {
  "kernelspec": {
   "display_name": "Python 3",
   "language": "python",
   "name": "python3"
  },
  "language_info": {
   "codemirror_mode": {
    "name": "ipython",
    "version": 3
   },
   "file_extension": ".py",
   "mimetype": "text/x-python",
   "name": "python",
   "nbconvert_exporter": "python",
   "pygments_lexer": "ipython3",
   "version": "3.5.1"
  }
 },
 "nbformat": 4,
 "nbformat_minor": 0
}
